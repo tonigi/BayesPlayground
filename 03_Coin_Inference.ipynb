{
 "cells": [
  {
   "cell_type": "markdown",
   "metadata": {},
   "source": [
    "# Is a coin biased?\n",
    "\n",
    "The illuminating examples provided in Wikipedia's [Bayes Factor](https://en.wikipedia.org/wiki/Bayes_factor) page:\n",
    "\n",
    "> Suppose we have a random variable that produces either a success or a failure. We want to compare a model M1 where the probability of success is q = ½, and another model M2 where q is unknown and we take a prior distribution for q that is uniform on [0,1]. We take a sample of 200, and find 115 successes and 85 failures.\n"
   ]
  },
  {
   "cell_type": "code",
   "execution_count": 1,
   "metadata": {
    "collapsed": false
   },
   "outputs": [
    {
     "name": "stdout",
     "output_type": "stream",
     "text": [
      "IPython console for SymPy 1.0 (Python 3.6.0-64-bit) (ground types: python)\n",
      "\n",
      "These commands were executed:\n",
      ">>> from __future__ import division\n",
      ">>> from sympy import *\n",
      ">>> x, y, z, t = symbols('x y z t')\n",
      ">>> k, m, n = symbols('k m n', integer=True)\n",
      ">>> f, g, h = symbols('f g h', cls=Function)\n",
      ">>> init_printing()\n",
      "\n",
      "Documentation can be found at http://docs.sympy.org/1.0/\n"
     ]
    }
   ],
   "source": [
    "from sympy import *\n",
    "init_session()\n",
    "\n",
    "from sympy.stats import P, E, variance, Die, Normal\n",
    "from sympy import Eq, simplify, stats\n",
    "import sympy.stats\n"
   ]
  },
  {
   "cell_type": "markdown",
   "metadata": {},
   "source": [
    "# First method - Bayes model comparison\n",
    "\n",
    "Model M1 is a fair coin. Model M2 is a coin with an unknown bias $q$ (there is no need to say $q \\ne 1/2$). We compute the Bayes factor as follows, indicating data as $x$ for brevity. It's one of those few cases in which computations is easier without taking logarithms. We also assume priors for M1 and M2 to be equal.\n",
    "\n",
    "$$ {P(M1|x)\\over P(M2|x)} = {P(x|M1) \\over P(x|M2)} $$\n",
    "\n",
    "$$ P(x|M1)= {S+F \\choose S} 2^{-(S+F)} $$\n",
    "\n",
    "We assume the prior over $q$ for M2 to be constant between 0 and 1.\n",
    "\n",
    "$$ P(x|M2)=\\int_0^1 {S+F \\choose S}  q^S (1-q)^F  dq $$ "
   ]
  },
  {
   "cell_type": "code",
   "execution_count": 83,
   "metadata": {
    "collapsed": false
   },
   "outputs": [],
   "source": [
    "S=115\n",
    "F=85\n",
    "\n",
    "s,f=symbols(\"s f\",positive=True)\n",
    "q=symbols(\"q\",real=True)\n",
    "\n",
    "sf = [(s,S),(f,F)] # Shorthand\n",
    "\n",
    "P_x_M1 = binomial(s+f,s)*2**(-s-f)"
   ]
  },
  {
   "cell_type": "code",
   "execution_count": 84,
   "metadata": {
    "collapsed": false
   },
   "outputs": [
    {
     "data": {
      "image/png": "[encoded data removed]",
      "text/latex": [
       "$$\\frac{{\\binom{f + s}{s}}}{2^{f + s}}$$"
      ],
      "text/plain": [
       " -f - s ⎛f + s⎞\n",
       "2      ⋅⎜     ⎟\n",
       "        ⎝  s  ⎠"
      ]
     },
     "execution_count": 84,
     "metadata": {},
     "output_type": "execute_result"
    }
   ],
   "source": [
    "P_x_M1"
   ]
  },
  {
   "cell_type": "code",
   "execution_count": 85,
   "metadata": {
    "collapsed": false
   },
   "outputs": [
    {
     "data": {
      "image/png": "[encoded data removed]",
      "text/latex": [
       "$$0.00595589219023654$$"
      ],
      "text/plain": [
       "0.00595589219023654"
      ]
     },
     "execution_count": 85,
     "metadata": {},
     "output_type": "execute_result"
    }
   ],
   "source": [
    "P_x_M1.subs(sf).evalf()"
   ]
  },
  {
   "cell_type": "code",
   "execution_count": 86,
   "metadata": {
    "collapsed": true
   },
   "outputs": [],
   "source": [
    "P_x_M2_q = binomial(s+f,s) * q**s * (1-q)**f\n",
    "P_x_M2 = integrate(P_x_M2_q,(q,0,1)).simplify()"
   ]
  },
  {
   "cell_type": "code",
   "execution_count": 93,
   "metadata": {
    "collapsed": false
   },
   "outputs": [
    {
     "data": {
      "image/png": "[encoded data removed]",
      "text/latex": [
       "$$q^{s} \\left(- q + 1\\right)^{f} {\\binom{f + s}{s}}$$"
      ],
      "text/plain": [
       " s         f ⎛f + s⎞\n",
       "q ⋅(-q + 1) ⋅⎜     ⎟\n",
       "             ⎝  s  ⎠"
      ]
     },
     "execution_count": 93,
     "metadata": {},
     "output_type": "execute_result"
    }
   ],
   "source": [
    "P_x_M2_q"
   ]
  },
  {
   "cell_type": "code",
   "execution_count": 89,
   "metadata": {
    "collapsed": false
   },
   "outputs": [
    {
     "data": {
      "image/png": "[encoded data removed]",
      "text/latex": [
       "$$\\frac{1}{f + s + 1}$$"
      ],
      "text/plain": [
       "    1    \n",
       "─────────\n",
       "f + s + 1"
      ]
     },
     "execution_count": 89,
     "metadata": {},
     "output_type": "execute_result"
    }
   ],
   "source": [
    "# Scary looking, but actually a Beta\n",
    "P_x_M2.simplify()"
   ]
  },
  {
   "cell_type": "code",
   "execution_count": 90,
   "metadata": {
    "collapsed": false
   },
   "outputs": [
    {
     "data": {
      "image/png": "[encoded data removed]",
      "text/latex": [
       "$$\\frac{1}{201}$$"
      ],
      "text/plain": [
       "1/201"
      ]
     },
     "execution_count": 90,
     "metadata": {},
     "output_type": "execute_result"
    }
   ],
   "source": [
    "P_x_M2.subs(sf)"
   ]
  },
  {
   "cell_type": "code",
   "execution_count": 91,
   "metadata": {
    "collapsed": false
   },
   "outputs": [
    {
     "data": {
      "image/png": "[encoded data removed]",
      "text/latex": [
       "$$1.19713433023754$$"
      ],
      "text/plain": [
       "1.19713433023754"
      ]
     },
     "execution_count": 91,
     "metadata": {},
     "output_type": "execute_result"
    }
   ],
   "source": [
    "(P_x_M1/P_x_M2).subs(sf).evalf()"
   ]
  },
  {
   "cell_type": "markdown",
   "metadata": {},
   "source": [
    "Answer: **barely worth mentioning** in favour of M1 (balance)."
   ]
  },
  {
   "cell_type": "markdown",
   "metadata": {},
   "source": [
    "# Second method: frequentist hypothesis testing\n",
    "\n",
    "Compute how many combinations there are for which the imbalance between $|s-f|$ is equal or more \"extreme\" than the $|S-F|$ observed (S+F is given)."
   ]
  },
  {
   "cell_type": "code",
   "execution_count": 39,
   "metadata": {
    "collapsed": false
   },
   "outputs": [],
   "source": [
    "pval=2*summation(binomial(S+F,s),(s,S,S+F)) / 2**(S+F)"
   ]
  },
  {
   "cell_type": "code",
   "execution_count": 40,
   "metadata": {
    "collapsed": false
   },
   "outputs": [
    {
     "data": {
      "image/png": "[encoded data removed]",
      "text/latex": [
       "$$0.0400371916133995$$"
      ],
      "text/plain": [
       "0.0400371916133995"
      ]
     },
     "execution_count": 40,
     "metadata": {},
     "output_type": "execute_result"
    }
   ],
   "source": [
    "pval.evalf()"
   ]
  },
  {
   "cell_type": "markdown",
   "metadata": {},
   "source": [
    "So, the frequentist approach indicates evidence in favour against the null hypothesis (imbalance)."
   ]
  },
  {
   "cell_type": "markdown",
   "metadata": {},
   "source": [
    "# Inferences on *q*\n",
    "\n",
    "The Bayesian point of view does *not* concern with a specific value of $q$, but rather with its a posteriori distribution (e.g. its credibility interval). We have a certain number of approaches to extract $q$ nevertheless.\n",
    "\n",
    "* Maximum likelihood\n",
    "* Median of $P(q|x)$  (+)\n",
    "* Mean of $P(q|x)$    (+)\n",
    "\n",
    "(+) For those we need the integration constant, i.e. the normalization factor for the prior.\n"
   ]
  },
  {
   "cell_type": "markdown",
   "metadata": {},
   "source": [
    "## Plots of the posterior distribution"
   ]
  },
  {
   "cell_type": "code",
   "execution_count": 74,
   "metadata": {
    "collapsed": false
   },
   "outputs": [
    {
     "data": {
      "image/png": "[encoded data removed]",
      "text/plain": [
       "<matplotlib.figure.Figure at 0x110b2f898>"
      ]
     },
     "metadata": {},
     "output_type": "display_data"
    },
    {
     "data": {
      "text/plain": [
       "<sympy.plotting.plot.Plot at 0x110b2fb38>"
      ]
     },
     "execution_count": 74,
     "metadata": {},
     "output_type": "execute_result"
    }
   ],
   "source": [
    "%matplotlib inline\n",
    "plot(P_x_M2_q.subs(sf),(q,0,1))"
   ]
  },
  {
   "cell_type": "code",
   "execution_count": 99,
   "metadata": {
    "collapsed": false
   },
   "outputs": [
    {
     "data": {
      "image/png": "[encoded data removed]",
      "text/latex": [
       "$$\\frac{1}{f + s + 1}$$"
      ],
      "text/plain": [
       "    1    \n",
       "─────────\n",
       "f + s + 1"
      ]
     },
     "execution_count": 99,
     "metadata": {},
     "output_type": "execute_result"
    }
   ],
   "source": [
    "Zq = integrate(P_x_M2_q,(q,0,1)).simplify().simplify()\n",
    "Zq \n"
   ]
  },
  {
   "cell_type": "markdown",
   "metadata": {},
   "source": [
    "## Maximum likelihood"
   ]
  },
  {
   "cell_type": "code",
   "execution_count": 100,
   "metadata": {
    "collapsed": false
   },
   "outputs": [
    {
     "data": {
      "image/png": "[encoded data removed]",
      "text/latex": [
       "$$- q^{s - 1} \\left(- q + 1\\right)^{f - 1} \\left(f q + q s - s\\right) {\\binom{f + s}{s}}$$"
      ],
      "text/plain": [
       "  s - 1         f - 1                 ⎛f + s⎞\n",
       "-q     ⋅(-q + 1)     ⋅(f⋅q + q⋅s - s)⋅⎜     ⎟\n",
       "                                      ⎝  s  ⎠"
      ]
     },
     "execution_count": 100,
     "metadata": {},
     "output_type": "execute_result"
    }
   ],
   "source": [
    "D_P_x_M2_q=P_x_M2_q.diff(q).simplify()\n",
    "D_P_x_M2_q"
   ]
  },
  {
   "cell_type": "code",
   "execution_count": 101,
   "metadata": {
    "collapsed": false
   },
   "outputs": [
    {
     "data": {
      "image/png": "[encoded data removed]",
      "text/latex": [
       "$$\\left [ 0^{\\frac{1}{s - 1}}, \\quad \\frac{s}{f + s}, \\quad - 0^{\\frac{1}{f - 1}} + 1\\right ]$$"
      ],
      "text/plain": [
       "⎡   1                1      ⎤\n",
       "⎢ ─────            ─────    ⎥\n",
       "⎢ s - 1    s       f - 1    ⎥\n",
       "⎢0     , ─────, - 0      + 1⎥\n",
       "⎣        f + s              ⎦"
      ]
     },
     "execution_count": 101,
     "metadata": {},
     "output_type": "execute_result"
    }
   ],
   "source": [
    "solve(D_P_x_M2_q,q)"
   ]
  },
  {
   "cell_type": "code",
   "execution_count": 102,
   "metadata": {
    "collapsed": false
   },
   "outputs": [
    {
     "data": {
      "image/png": "[encoded data removed]",
      "text/latex": [
       "$$\\frac{23}{40}$$"
      ],
      "text/plain": [
       "23\n",
       "──\n",
       "40"
      ]
     },
     "execution_count": 102,
     "metadata": {},
     "output_type": "execute_result"
    }
   ],
   "source": [
    "solve(D_P_x_M2_q,q)[1].subs(sf)"
   ]
  },
  {
   "cell_type": "code",
   "execution_count": 103,
   "metadata": {
    "collapsed": false
   },
   "outputs": [
    {
     "data": {
      "image/png": "[encoded data removed]",
      "text/latex": [
       "$$0.575$$"
      ],
      "text/plain": [
       "0.575000000000000"
      ]
     },
     "execution_count": 103,
     "metadata": {},
     "output_type": "execute_result"
    }
   ],
   "source": [
    "solve(D_P_x_M2_q,q)[1].subs(sf).evalf()"
   ]
  },
  {
   "cell_type": "markdown",
   "metadata": {},
   "source": [
    "## Median a posteriori"
   ]
  },
  {
   "cell_type": "code",
   "execution_count": 104,
   "metadata": {
    "collapsed": true
   },
   "outputs": [],
   "source": [
    "Int_P_x_M2_q=integrate(P_x_M2_q/Zq,(q,0,x)).simplify()\n",
    "# Then solve Int_P_x_M2_q==1/2  , which seems not trivial"
   ]
  },
  {
   "cell_type": "markdown",
   "metadata": {},
   "source": [
    "## Mean a posteriori"
   ]
  },
  {
   "cell_type": "code",
   "execution_count": 113,
   "metadata": {
    "collapsed": false
   },
   "outputs": [
    {
     "data": {
      "image/png": "[encoded data removed]",
      "text/latex": [
       "$$\\frac{s + 1}{f + s + 2}$$"
      ],
      "text/plain": [
       "  s + 1  \n",
       "─────────\n",
       "f + s + 2"
      ]
     },
     "execution_count": 113,
     "metadata": {},
     "output_type": "execute_result"
    }
   ],
   "source": [
    "mean_P_x_M2_q = integrate(q*P_x_M2_q/Zq,(q,0,1)).simplify()\n",
    "mean_P_x_M2_q"
   ]
  },
  {
   "cell_type": "code",
   "execution_count": 114,
   "metadata": {
    "collapsed": false
   },
   "outputs": [
    {
     "data": {
      "image/png": "[encoded data removed]",
      "text/latex": [
       "$$\\frac{58}{101}$$"
      ],
      "text/plain": [
       " 58\n",
       "───\n",
       "101"
      ]
     },
     "execution_count": 114,
     "metadata": {},
     "output_type": "execute_result"
    }
   ],
   "source": [
    "mean_P_x_M2_q.subs(sf)"
   ]
  },
  {
   "cell_type": "code",
   "execution_count": 115,
   "metadata": {
    "collapsed": false
   },
   "outputs": [
    {
     "data": {
      "image/png": "[encoded data removed]",
      "text/latex": [
       "$$0.574257425742574$$"
      ],
      "text/plain": [
       "0.574257425742574"
      ]
     },
     "execution_count": 115,
     "metadata": {},
     "output_type": "execute_result"
    }
   ],
   "source": [
    "mean_P_x_M2_q.subs(sf).evalf()"
   ]
  },
  {
   "cell_type": "markdown",
   "metadata": {},
   "source": [
    "# Likelihood ratio test - in progress\n",
    "\n",
    "We need to get the likelihood of M2 at the maximum value for $q$."
   ]
  },
  {
   "cell_type": "code",
   "execution_count": 120,
   "metadata": {
    "collapsed": false
   },
   "outputs": [
    {
     "data": {
      "image/png": "[encoded data removed]",
      "text/latex": [
       "$$\\frac{f^{f} s^{s} {\\binom{f + s}{s}}}{\\left(f + s\\right)^{f + s}}$$"
      ],
      "text/plain": [
       " f  s        -f - s ⎛f + s⎞\n",
       "f ⋅s ⋅(f + s)      ⋅⎜     ⎟\n",
       "                    ⎝  s  ⎠"
      ]
     },
     "execution_count": 120,
     "metadata": {},
     "output_type": "execute_result"
    }
   ],
   "source": [
    "Lmaxq=P_x_M2_q.subs(q,s/(s+f)).simplify()\n",
    "Lmaxq"
   ]
  },
  {
   "cell_type": "code",
   "execution_count": 122,
   "metadata": {
    "collapsed": false
   },
   "outputs": [
    {
     "data": {
      "image/png": "[encoded data removed]",
      "text/latex": [
       "$$0.0569911150549412$$"
      ],
      "text/plain": [
       "0.0569911150549412"
      ]
     },
     "execution_count": 122,
     "metadata": {},
     "output_type": "execute_result"
    }
   ],
   "source": [
    "Lmaxq.subs(sf).evalf()"
   ]
  },
  {
   "cell_type": "code",
   "execution_count": 125,
   "metadata": {
    "collapsed": false
   },
   "outputs": [
    {
     "data": {
      "image/png": "[encoded data removed]",
      "text/latex": [
       "$$\\frac{2^{f + s} f^{f} s^{s}}{\\left(f + s\\right)^{f + s}}$$"
      ],
      "text/plain": [
       " f + s  f  s        -f - s\n",
       "2     ⋅f ⋅s ⋅(f + s)      "
      ]
     },
     "execution_count": 125,
     "metadata": {},
     "output_type": "execute_result"
    }
   ],
   "source": [
    "(Lmaxq/P_x_M1)"
   ]
  },
  {
   "cell_type": "code",
   "execution_count": 127,
   "metadata": {
    "collapsed": false
   },
   "outputs": [
    {
     "data": {
      "image/png": "[encoded data removed]",
      "text/latex": [
       "$$9.56886277229236$$"
      ],
      "text/plain": [
       "9.56886277229236"
      ]
     },
     "execution_count": 127,
     "metadata": {},
     "output_type": "execute_result"
    }
   ],
   "source": [
    "(Lmaxq/P_x_M1).subs(sf).evalf()"
   ]
  },
  {
   "cell_type": "code",
   "execution_count": null,
   "metadata": {
    "collapsed": true
   },
   "outputs": [],
   "source": []
  }
 ],
 "metadata": {
  "kernelspec": {
   "display_name": "Python 3",
   "language": "python",
   "name": "python3"
  },
  "language_info": {
   "codemirror_mode": {
    "name": "ipython",
    "version": 3
   },
   "file_extension": ".py",
   "mimetype": "text/x-python",
   "name": "python",
   "nbconvert_exporter": "python",
   "pygments_lexer": "ipython3",
   "version": "3.6.0"
  }
 },
 "nbformat": 4,
 "nbformat_minor": 2
}
