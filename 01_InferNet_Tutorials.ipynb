{
 "cells": [
  {
   "cell_type": "markdown",
   "metadata": {},
   "source": [
    "# Symbolic solutions of InferNet examples\n",
    "\n",
    "Using SymPy's Stats module.\n",
    "\n",
    "Examples from [here](http://infernet.azurewebsites.net/docs/Two%20coins%20tutorial.aspx)."
   ]
  },
  {
   "cell_type": "code",
   "execution_count": 3,
   "metadata": {
    "collapsed": false
   },
   "outputs": [
    {
     "name": "stdout",
     "output_type": "stream",
     "text": [
      "IPython console for SymPy 1.0 (Python 3.6.0-64-bit) (ground types: python)\n",
      "\n",
      "These commands were executed:\n",
      ">>> from __future__ import division\n",
      ">>> from sympy import *\n",
      ">>> x, y, z, t = symbols('x y z t')\n",
      ">>> k, m, n = symbols('k m n', integer=True)\n",
      ">>> f, g, h = symbols('f g h', cls=Function)\n",
      ">>> init_printing()\n",
      "\n",
      "Documentation can be found at http://docs.sympy.org/1.0/\n"
     ]
    }
   ],
   "source": [
    "from sympy import *\n",
    "init_session()\n",
    "\n",
    "from sympy.stats import P, E, variance, Die, Normal\n",
    "from sympy import Eq, simplify\n",
    "import sympy.stats\n",
    "import numpy as np\n"
   ]
  },
  {
   "cell_type": "markdown",
   "metadata": {},
   "source": [
    "# Two coins\n",
    "\n",
    "> Here, bothHeads is true only if both firstCoin and secondCoin are true and hence it represents the situation where both coins turn up heads.  We have not directly given bothHeads a prior distribution, yet it is a random variable, because it is a function of random variables.  So, we can ask the question \"what is the distribution of this random variable?\".  To answer this question, we need to perform inference. "
   ]
  },
  {
   "cell_type": "code",
   "execution_count": 16,
   "metadata": {
    "collapsed": false
   },
   "outputs": [],
   "source": [
    "oneHalf=Rational(1,2)             # 1/2 is a float\n",
    "firstCoin = sympy.stats.Bernoulli(\"firstCoin\",p=oneHalf)\n",
    "secondCoin = sympy.stats.Bernoulli(\"secondCoin\",p=oneHalf)"
   ]
  },
  {
   "cell_type": "code",
   "execution_count": 17,
   "metadata": {
    "collapsed": true
   },
   "outputs": [],
   "source": [
    "# We use product instead of \"logical and\". \"and\" doesn't give the expected result, \"&&\" is not supported.\n",
    "bothHeads = firstCoin * secondCoin"
   ]
  },
  {
   "cell_type": "markdown",
   "metadata": {},
   "source": [
    "## Probability that both coins are heads: Bernoulli(0.25)"
   ]
  },
  {
   "cell_type": "code",
   "execution_count": 35,
   "metadata": {
    "collapsed": false
   },
   "outputs": [
    {
     "data": {
      "image/png": "[encoded data removed]",
      "text/latex": [
       "$$\\left \\{ 0 : \\frac{3}{4}, \\quad 1 : \\frac{1}{4}\\right \\}$$"
      ],
      "text/plain": [
       "{0: 3/4, 1: 1/4}"
      ]
     },
     "execution_count": 35,
     "metadata": {},
     "output_type": "execute_result"
    }
   ],
   "source": [
    "sympy.stats.density(bothHeads)"
   ]
  },
  {
   "cell_type": "markdown",
   "metadata": {},
   "source": [
    "## Inference\n",
    "\n",
    "If we observed that `bothHeads` is false, what is the probability that `firstCoin` was true?"
   ]
  },
  {
   "cell_type": "code",
   "execution_count": 36,
   "metadata": {
    "collapsed": false
   },
   "outputs": [
    {
     "data": {
      "image/png": "[encoded data removed]",
      "text/latex": [
       "$$\\frac{1}{3}$$"
      ],
      "text/plain": [
       "1/3"
      ]
     },
     "execution_count": 36,
     "metadata": {},
     "output_type": "execute_result"
    }
   ],
   "source": [
    "# Note that a simple \"==\" doesn't give the expected result.\n",
    "P( Eq(firstCoin,1), Eq(bothHeads,0) )"
   ]
  },
  {
   "cell_type": "markdown",
   "metadata": {},
   "source": [
    "# Truncated Gaussian\n",
    "In all its symbolic glory."
   ]
  },
  {
   "cell_type": "code",
   "execution_count": 41,
   "metadata": {
    "collapsed": true
   },
   "outputs": [],
   "source": [
    "x=Normal(\"x\",0,1)\n",
    "thr = oneHalf"
   ]
  },
  {
   "cell_type": "code",
   "execution_count": 46,
   "metadata": {
    "collapsed": false
   },
   "outputs": [],
   "source": [
    "xp_m=E(x, x>thr)\n",
    "xp_v=variance(x, x>thr)"
   ]
  },
  {
   "cell_type": "code",
   "execution_count": 51,
   "metadata": {
    "collapsed": false
   },
   "outputs": [
    {
     "data": {
      "image/png": "[encoded data removed]",
      "text/latex": [
       "$$\\frac{\\sqrt{2}}{\\sqrt{\\pi} \\left(- \\operatorname{erf}{\\left (\\frac{\\sqrt{2}}{4} \\right )} + 1\\right) e^{\\frac{1}{8}}}$$"
      ],
      "text/plain": [
       "         -1/8     \n",
       "     √2⋅ℯ         \n",
       "──────────────────\n",
       "   ⎛     ⎛√2⎞    ⎞\n",
       "√π⋅⎜- erf⎜──⎟ + 1⎟\n",
       "   ⎝     ⎝4 ⎠    ⎠"
      ]
     },
     "execution_count": 51,
     "metadata": {},
     "output_type": "execute_result"
    }
   ],
   "source": [
    "simplify(xp_m)\n",
    "# Variance is also there, but more complex"
   ]
  },
  {
   "cell_type": "code",
   "execution_count": 48,
   "metadata": {
    "collapsed": false
   },
   "outputs": [
    {
     "name": "stdout",
     "output_type": "stream",
     "text": [
      "1.14107777036806\n",
      "0.268480407155879\n"
     ]
    }
   ],
   "source": [
    "print(N(xp_m))\n",
    "print(N(xp_v))"
   ]
  },
  {
   "cell_type": "code",
   "execution_count": 121,
   "metadata": {
    "collapsed": false,
    "scrolled": true
   },
   "outputs": [],
   "source": [
    "# This works, but very slowly. It redoes the symbolic integration every time.\n",
    "# E(x,x>thr) does not seem to be supported for symbolic thr\n",
    "#\n",
    "#for thr in np.arange(0,1,.1):\n",
    "#    print(\"thr={:.1f} => mean={:.4f}, var={:.4f}\".format(thr,\n",
    "#                                                  E(x,x>thr).evalf(),\n",
    "#                                                  variance(x,x>thr).evalf()  ))\n"
   ]
  },
  {
   "cell_type": "code",
   "execution_count": 101,
   "metadata": {
    "collapsed": false
   },
   "outputs": [],
   "source": [
    "# Using numsamples is not a good strategy either. Convergence is slow.\n",
    "# for thr in np.arange(0,1,.1):\n",
    "#    print(\"thr={:.1f} => mean={:.4f}, var={:.4f}\".format(thr,\n",
    "#                                                  E(x,x>thr,numsamples=1e3),\n",
    "#                                                  variance(x,x>thr,numsamples=1e3)))\n"
   ]
  },
  {
   "cell_type": "code",
   "execution_count": 132,
   "metadata": {
    "collapsed": false
   },
   "outputs": [],
   "source": [
    "# Not sure why this does not work\n",
    "# E_trunc_gaussian=E(x,x>t)"
   ]
  },
  {
   "cell_type": "code",
   "execution_count": 128,
   "metadata": {
    "collapsed": false
   },
   "outputs": [
    {
     "data": {
      "image/png": "[encoded data removed]",
      "text/latex": [
       "$$- \\frac{\\sqrt{2} e^{- \\frac{t^{2}}{2}}}{\\sqrt{\\pi} \\left(\\operatorname{erf}{\\left (\\frac{\\sqrt{2} t}{2} \\right )} - 1\\right)}$$"
      ],
      "text/plain": [
       "           2      \n",
       "         -t       \n",
       "         ────     \n",
       "          2       \n",
       "    -√2⋅ℯ         \n",
       "──────────────────\n",
       "   ⎛   ⎛√2⋅t⎞    ⎞\n",
       "√π⋅⎜erf⎜────⎟ - 1⎟\n",
       "   ⎝   ⎝ 2  ⎠    ⎠"
      ]
     },
     "execution_count": 128,
     "metadata": {},
     "output_type": "execute_result"
    }
   ],
   "source": [
    "# Actually could have used sympy.stats.cdf\n",
    "Z_trunc_gaussian = integrate(sympy.stats.density(x)(y),(y,t,oo))\n",
    "E_trunc_gaussian = simplify(integrate(y*sympy.stats.density(x)(y),(y,t,oo)) / Z_trunc_gaussian )\n",
    "\n",
    "E_trunc_gaussian"
   ]
  },
  {
   "cell_type": "code",
   "execution_count": 130,
   "metadata": {
    "collapsed": false
   },
   "outputs": [
    {
     "data": {
      "image/png": "[encoded data removed]",
      "text/latex": [
       "$$\\frac{e^{- \\frac{3 t^{2}}{2}}}{2 \\pi^{\\frac{3}{2}} \\left(\\operatorname{erf}{\\left (\\frac{\\sqrt{2} t}{2} \\right )} - 1\\right)^{3}} \\left(\\pi \\left(\\sqrt{2} \\left(- 2 t + \\sqrt{2} \\sqrt{\\pi} e^{\\frac{t^{2}}{2}} \\operatorname{erf}{\\left (\\frac{\\sqrt{2} t}{2} \\right )}\\right) - 2 \\sqrt{\\pi} e^{\\frac{t^{2}}{2}}\\right) \\left(\\operatorname{erf}{\\left (\\frac{\\sqrt{2} t}{2} \\right )} - 1\\right)^{2} e^{t^{2}} + 4 \\sqrt{\\pi} \\left(- \\operatorname{erf}{\\left (\\frac{\\sqrt{2} t}{2} \\right )} + 1\\right) e^{\\frac{t^{2}}{2}}\\right)$$"
      ],
      "text/plain": [
       "⎛  ⎛   ⎛               2          ⎞          2⎞                               \n",
       "⎜  ⎜   ⎜              t           ⎟         t ⎟                               \n",
       "⎜  ⎜   ⎜              ──          ⎟         ──⎟                2  ⎛ 2⎞        \n",
       "⎜  ⎜   ⎜              2     ⎛√2⋅t⎞⎟         2 ⎟ ⎛   ⎛√2⋅t⎞    ⎞   ⎝t ⎠        \n",
       "⎜π⋅⎜√2⋅⎜-2⋅t + √2⋅√π⋅ℯ  ⋅erf⎜────⎟⎟ - 2⋅√π⋅ℯ  ⎟⋅⎜erf⎜────⎟ - 1⎟ ⋅ℯ     + 4⋅√π⋅\n",
       "⎝  ⎝   ⎝                    ⎝ 2  ⎠⎠           ⎠ ⎝   ⎝ 2  ⎠    ⎠               \n",
       "──────────────────────────────────────────────────────────────────────────────\n",
       "                                                                3             \n",
       "                                             3/2 ⎛   ⎛√2⋅t⎞    ⎞              \n",
       "                                          2⋅π   ⋅⎜erf⎜────⎟ - 1⎟              \n",
       "                                                 ⎝   ⎝ 2  ⎠    ⎠              \n",
       "\n",
       "                    2⎞      2 \n",
       "                   t ⎟  -3⋅t  \n",
       "                   ──⎟  ──────\n",
       "⎛     ⎛√2⋅t⎞    ⎞  2 ⎟    2   \n",
       "⎜- erf⎜────⎟ + 1⎟⋅ℯ  ⎟⋅ℯ      \n",
       "⎝     ⎝ 2  ⎠    ⎠    ⎠        \n",
       "──────────────────────────────\n",
       "                              \n",
       "                              \n",
       "                              \n",
       "                              "
      ]
     },
     "execution_count": 130,
     "metadata": {},
     "output_type": "execute_result"
    }
   ],
   "source": [
    "# Var[x]^2 = E[x^2] - E[x]^2\n",
    "Ey2_trunc_gaussian = integrate(y**2 *sympy.stats.density(x)(y),(y,t,oo)) / Z_trunc_gaussian \n",
    "var_trunc_gaussian = simplify(Ey2_trunc_gaussian - E_trunc_gaussian**2 )\n",
    "\n",
    "var_trunc_gaussian"
   ]
  },
  {
   "cell_type": "code",
   "execution_count": 131,
   "metadata": {
    "collapsed": false
   },
   "outputs": [
    {
     "name": "stdout",
     "output_type": "stream",
     "text": [
      "thr=0.0 => mean=0.7979, var=0.3634\n",
      "thr=0.1 => mean=0.8626, var=0.3422\n",
      "thr=0.2 => mean=0.9294, var=0.3221\n",
      "thr=0.3 => mean=0.9982, var=0.3031\n",
      "thr=0.4 => mean=1.0688, var=0.2853\n",
      "thr=0.5 => mean=1.1411, var=0.2685\n",
      "thr=0.6 => mean=1.2150, var=0.2527\n",
      "thr=0.7 => mean=1.2905, var=0.2380\n",
      "thr=0.8 => mean=1.3674, var=0.2241\n",
      "thr=0.9 => mean=1.4456, var=0.2112\n",
      "thr=1.0 => mean=1.5251, var=0.1991\n"
     ]
    }
   ],
   "source": [
    "# Beat this.  \n",
    "for thr in np.arange(0,1.05,.1):\n",
    "        print(\"thr={:.1f} => mean={:.4f}, var={:.4f}\".format(thr,\n",
    "                                                  E_trunc_gaussian.subs(t,thr).evalf(),\n",
    "                                                  var_trunc_gaussian.subs(t,thr).evalf() ))"
   ]
  },
  {
   "cell_type": "code",
   "execution_count": 99,
   "metadata": {
    "collapsed": false
   },
   "outputs": [
    {
     "data": {
      "image/png": "[encoded data removed]",
      "text/latex": [
       "$$1.52513527616098$$"
      ],
      "text/plain": [
       "1.52513527616098"
      ]
     },
     "execution_count": 99,
     "metadata": {},
     "output_type": "execute_result"
    }
   ],
   "source": [
    "E_trunc_gaussian.subs(t,thr).evalf()"
   ]
  },
  {
   "cell_type": "code",
   "execution_count": 112,
   "metadata": {
    "collapsed": false
   },
   "outputs": [],
   "source": [
    "tmp=sympy.stats.cdf(x)(z)"
   ]
  },
  {
   "cell_type": "code",
   "execution_count": 120,
   "metadata": {
    "collapsed": false
   },
   "outputs": [
    {
     "data": {
      "image/png": "[encoded data removed]",
      "text/latex": [
       "$$- \\frac{1}{2} \\operatorname{erfc}{\\left (5 \\sqrt{2} \\right )} + 1$$"
      ],
      "text/plain": [
       "  erfc(5⋅√2)    \n",
       "- ────────── + 1\n",
       "      2         "
      ]
     },
     "execution_count": 120,
     "metadata": {},
     "output_type": "execute_result"
    }
   ],
   "source": [
    "tmp.subs(z,10)"
   ]
  },
  {
   "cell_type": "code",
   "execution_count": null,
   "metadata": {
    "collapsed": true
   },
   "outputs": [],
   "source": []
  }
 ],
 "metadata": {
  "kernelspec": {
   "display_name": "Python 3",
   "language": "python",
   "name": "python3"
  },
  "language_info": {
   "codemirror_mode": {
    "name": "ipython",
    "version": 3
   },
   "file_extension": ".py",
   "mimetype": "text/x-python",
   "name": "python",
   "nbconvert_exporter": "python",
   "pygments_lexer": "ipython3",
   "version": "3.6.0"
  }
 },
 "nbformat": 4,
 "nbformat_minor": 2
}
