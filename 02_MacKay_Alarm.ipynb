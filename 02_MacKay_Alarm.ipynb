{
 "cells": [
  {
   "cell_type": "markdown",
   "metadata": {},
   "source": [
    "# Symbolic solutions of MacKay's \"burglar alarm\" example\n",
    "\n",
    "Taken from Chapter 21 of the late David MacKay's classic book, [Information Theory, Inference, and Learning Algorithms](http://www.inference.phy.cam.ac.uk/itila/book.html).\n",
    "\n",
    "> Example 21.1. Fred lives in Los Angeles and commutes 60 miles to work. Whilst at work, he receives a phone-call from his neighbour saying that Fred’s burglar alarm is ringing. What is the probability that there was a burglar in his house today? While driving home to investigate, Fred hears on the radio that there was a small earthquake that day near his home. ‘Oh’, he says, feeling relieved, ‘it was probably the earthquake that set off the alarm’. What is the probability that there was a burglar in his house? (After Pearl, 1988).\n",
    "\n",
    "> Let’s introduce variables b (a burglar was present in Fred’s house today), a (the alarm is ringing), p (Fred receives a phonecall from the neighbour reporting the alarm), e (a small earthquake took place today near Fred’s house), and r (the radio report of earthquake is heard by Fred). \n"
   ]
  },
  {
   "cell_type": "code",
   "execution_count": 1,
   "metadata": {
    "collapsed": false
   },
   "outputs": [
    {
     "name": "stdout",
     "output_type": "stream",
     "text": [
      "IPython console for SymPy 1.0 (Python 3.6.0-64-bit) (ground types: python)\n",
      "\n",
      "These commands were executed:\n",
      ">>> from __future__ import division\n",
      ">>> from sympy import *\n",
      ">>> x, y, z, t = symbols('x y z t')\n",
      ">>> k, m, n = symbols('k m n', integer=True)\n",
      ">>> f, g, h = symbols('f g h', cls=Function)\n",
      ">>> init_printing()\n",
      "\n",
      "Documentation can be found at http://docs.sympy.org/1.0/\n"
     ]
    }
   ],
   "source": [
    "from sympy import *\n",
    "init_session()\n",
    "\n",
    "from sympy.stats import P, E, variance, Die, Normal\n",
    "from sympy import Eq, simplify\n",
    "import sympy.stats\n",
    "import numpy as np\n"
   ]
  },
  {
   "cell_type": "code",
   "execution_count": 2,
   "metadata": {
    "collapsed": true
   },
   "outputs": [],
   "source": [
    "def noisy_or(a,b):\n",
    "    # Equivalently, 1-(1-a)*(1-b), meaning NOT(NOT(a) AND NOT(b)) with AND implemented as probability multiplication\n",
    "    return a+b-a*b"
   ]
  },
  {
   "cell_type": "markdown",
   "metadata": {},
   "source": [
    "# Priors\n",
    "\n",
    "Rates are per day (1/1000 ~ once every 3 years)"
   ]
  },
  {
   "cell_type": "code",
   "execution_count": 3,
   "metadata": {
    "collapsed": false
   },
   "outputs": [],
   "source": [
    "# Burglar\n",
    "beta = Rational(1,1000)\n",
    "b = sympy.stats.Bernoulli(\"b\",beta)\n",
    "\n",
    "# Earthquake\n",
    "epsilon = Rational(1,1000)\n",
    "e = sympy.stats.Bernoulli(\"e\",epsilon)\n",
    "\n",
    "\n",
    "# Alarm sensitivity to burglaries\n",
    "# here I'm making esplicit the distinction between the probability of \n",
    "# being triggered and the corresponding random variable. This also\n",
    "# allows to multiply the latter by the conditioned event (\"and\")\n",
    "alpha_b = Rational(99,100)\n",
    "a_b = sympy.stats.Bernoulli(\"a_b\",alpha_b)\n",
    "\n",
    "# Alarm sensitivity to earthquakes\n",
    "alpha_e = Rational(1,100)\n",
    "a_e = sympy.stats.Bernoulli(\"a_e\",alpha_e)\n",
    "\n",
    "\n",
    "# False alarm\n",
    "a_f = Rational(1,1000)\n",
    "f = sympy.stats.Bernoulli(\"f\",a_f)\n"
   ]
  },
  {
   "cell_type": "code",
   "execution_count": 4,
   "metadata": {
    "collapsed": false
   },
   "outputs": [],
   "source": [
    "# Alarm - is a noisy or of three conditions\n",
    "#  (a) burglar present, and alarm sensed it\n",
    "#  (b) earthquake, and alarm sensed it\n",
    "#  (c) not a false alarm\n",
    "\n",
    "case_a = b * a_b\n",
    "case_b = e * a_e\n",
    "case_c = f\n",
    "\n",
    "a=noisy_or(case_a,noisy_or(case_b,case_c))\n"
   ]
  },
  {
   "cell_type": "markdown",
   "metadata": {},
   "source": [
    "## Solution\n",
    "\n",
    "Probability of a burglar, given that the alarm sounded, if we don't know about the earthquake. Note how the P function correctly marginalizes over the states of the earthquake variable (true and false).\n"
   ]
  },
  {
   "cell_type": "markdown",
   "metadata": {},
   "source": [
    "Well, actually P also marginalized over the combination of false alarms and detections. As far as I can say, there are 16 combinations in the numerator, and 32 in the denominator, i.e.: \n",
    " 1. burglar present\n",
    " 1. burglar sensed\n",
    " 2. earthquake sensed\n",
    " 3. earthquake present\n",
    " 4. false alarm present\n",
    " "
   ]
  },
  {
   "cell_type": "code",
   "execution_count": 5,
   "metadata": {
    "collapsed": false
   },
   "outputs": [],
   "source": [
    "# Takes a while, not sure why, but the answer is correct. \n",
    "p_burglar_given_alarm=P(Eq(b,1),Eq(a,1))"
   ]
  },
  {
   "cell_type": "code",
   "execution_count": 6,
   "metadata": {
    "collapsed": false
   },
   "outputs": [
    {
     "data": {
      "image/png": "[encoded data removed]",
      "text/latex": [
       "$$\\frac{9900100999}{19989901099} = 0.4953$$"
      ],
      "text/plain": [
       " 9900100999         \n",
       "─────────── = 0.4953\n",
       "19989901099         "
      ]
     },
     "execution_count": 6,
     "metadata": {},
     "output_type": "execute_result"
    }
   ],
   "source": [
    "Eq(p_burglar_given_alarm,\n",
    "   p_burglar_given_alarm.evalf(4),evaluate=False)"
   ]
  },
  {
   "cell_type": "markdown",
   "metadata": {},
   "source": [
    "## Solution part 2\n",
    "\n",
    "We know that both the alarm sounded, and that the earthquake occurred."
   ]
  },
  {
   "cell_type": "code",
   "execution_count": 10,
   "metadata": {
    "collapsed": true
   },
   "outputs": [],
   "source": [
    "p_burglar_given_alarm_and_earthquake=P(Eq(b,1),  And(Eq(a,1),Eq(e,1)))"
   ]
  },
  {
   "cell_type": "code",
   "execution_count": 11,
   "metadata": {
    "collapsed": false
   },
   "outputs": [
    {
     "data": {
      "image/png": "[encoded data removed]",
      "text/latex": [
       "$$\\frac{9901099}{119691199} = 0.08272$$"
      ],
      "text/plain": [
       " 9901099           \n",
       "───────── = 0.08272\n",
       "119691199          "
      ]
     },
     "execution_count": 11,
     "metadata": {},
     "output_type": "execute_result"
    }
   ],
   "source": [
    "Eq(p_burglar_given_alarm_and_earthquake,\n",
    "   p_burglar_given_alarm_and_earthquake.evalf(4),evaluate=False)"
   ]
  },
  {
   "cell_type": "markdown",
   "metadata": {},
   "source": [
    "## Discussion\n",
    "\n",
    "Note how counter-intuitive these inferences may be. Prior probabilities of burglary and earthquake are the same. However, alarm sensitivities to the two events are very different. One may expect earthquakes to be \"unlikely\" explanations, but above we saw that the chances of burglary are approximately even. \n",
    "\n",
    "Here, in the absence of information about the earthquake, the explanation lies in the high \"false positive\" $f$ (prior probability of alarm being triggered *regardless of anything*). In particular, it is comparable with the burglary rate. So the changes are even between burglary and an earthquake-independent false alarm. So, earthquakes are essentially irrelevant.\n",
    "\n",
    "This can be verified as follows. We leave the \"false positive\" probability $f$ symbolic, and study varying it from 0 (never) to 10<sup>-2</sup> (far higher than burglaries). No further changes required. In fact, we should have probably made the whole calculation symbolic in the first place."
   ]
  },
  {
   "cell_type": "code",
   "execution_count": 7,
   "metadata": {
    "collapsed": false
   },
   "outputs": [],
   "source": [
    "a_f_s = symbols(\"a_f_s\")\n",
    "f_s = sympy.stats.Bernoulli(\"f_s\",a_f_s)\n",
    "a_symbolic=noisy_or(case_a,noisy_or(case_b,f_s))\n",
    "\n",
    "p_burglar_given_alarm_symbolic=P(Eq(b,1),Eq(a_symbolic,1))  # Long expression"
   ]
  },
  {
   "cell_type": "code",
   "execution_count": 9,
   "metadata": {
    "collapsed": false
   },
   "outputs": [
    {
     "name": "stdout",
     "output_type": "stream",
     "text": [
      "0 -> 0.9900\n",
      "0.0001 -> 0.9001\n",
      "0.001 -> 0.4953\n",
      "0.01 -> 0.09009\n"
     ]
    }
   ],
   "source": [
    "for f in (0, 0.0001, 0.001, 0.01):\n",
    "    print(f, end=\" -> \")\n",
    "    pprint(p_burglar_given_alarm_symbolic.subs(a_f_s,f).evalf(4))\n",
    "\n",
    "# Probability of burglary w.r.t. false alarm triggering rate."
   ]
  },
  {
   "cell_type": "markdown",
   "metadata": {},
   "source": [
    "In part 2 of the solution, given that the occurrence of an earthquake is known, the balances are tipped. The a-priori unlikely earthquake has occurred; it is true that 99% of the times it will be ignored by the alarm. But still this 1% probability is far higher than the 0.1% a-priori probability of burglary. "
   ]
  },
  {
   "cell_type": "markdown",
   "metadata": {},
   "source": [
    "\n",
    "## Desiderata\n",
    "Would it be possible to display a tree of variable dependencies? \n"
   ]
  },
  {
   "cell_type": "code",
   "execution_count": null,
   "metadata": {
    "collapsed": true
   },
   "outputs": [],
   "source": [
    "%qtconsole"
   ]
  }
 ],
 "metadata": {
  "kernelspec": {
   "display_name": "Python 3",
   "language": "python",
   "name": "python3"
  },
  "language_info": {
   "codemirror_mode": {
    "name": "ipython",
    "version": 3
   },
   "file_extension": ".py",
   "mimetype": "text/x-python",
   "name": "python",
   "nbconvert_exporter": "python",
   "pygments_lexer": "ipython3",
   "version": "3.6.0"
  }
 },
 "nbformat": 4,
 "nbformat_minor": 2
}
